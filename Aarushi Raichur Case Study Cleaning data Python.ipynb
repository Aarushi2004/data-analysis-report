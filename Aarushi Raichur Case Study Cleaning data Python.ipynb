{
 "cells": [
  {
   "cell_type": "code",
   "execution_count": 2,
   "id": "65121232-8e50-4ebb-b944-51051b4fbfb2",
   "metadata": {},
   "outputs": [],
   "source": [
    "import pandas as pd\n"
   ]
  },
  {
   "cell_type": "code",
   "execution_count": 3,
   "id": "b8cd2d6b-4045-4b92-9477-ee6073e6ab63",
   "metadata": {},
   "outputs": [],
   "source": [
    "# Loading the raw data\n",
    "df_pay = pd.read_csv('Payments.csv')\n",
    "df_cli = pd.read_csv('Clients.csv')\n"
   ]
  },
  {
   "cell_type": "code",
   "execution_count": 4,
   "id": "c45a546e-7577-4655-a8f3-96466c383914",
   "metadata": {},
   "outputs": [],
   "source": [
    "# converting epoch date\n",
    "df_pay[\"transaction_date\"] = pd.to_datetime(df_pay[\"transaction_date\"], unit=\"s\")"
   ]
  },
  {
   "cell_type": "code",
   "execution_count": 28,
   "id": "fed328a6-dc4a-47e9-a7c1-e44a18eeac2a",
   "metadata": {},
   "outputs": [
    {
     "name": "stdout",
     "output_type": "stream",
     "text": [
      "<class 'pandas.core.frame.DataFrame'>\n",
      "RangeIndex: 25559 entries, 0 to 25558\n",
      "Data columns (total 6 columns):\n",
      " #   Column            Non-Null Count  Dtype  \n",
      "---  ------            --------------  -----  \n",
      " 0   transaction_id    25559 non-null  int64  \n",
      " 1   contract_id       25559 non-null  int64  \n",
      " 2   client_id         25559 non-null  int64  \n",
      " 3   transaction_date  25559 non-null  int64  \n",
      " 4   payment_amt       25559 non-null  float64\n",
      " 5   payment_code      25559 non-null  object \n",
      "dtypes: float64(1), int64(4), object(1)\n",
      "memory usage: 1.2+ MB\n",
      "   transaction_id  contract_id  client_id  transaction_date  payment_amt  \\\n",
      "0           20175          927          1        1527012511        66.66   \n",
      "1            8485          927          1        1511716095        66.66   \n",
      "2           13778          927          1        1519319303        66.66   \n",
      "3           22768          927          1        1529863724        66.66   \n",
      "4           15698          927          1        1521738504        66.66   \n",
      "\n",
      "  payment_code  \n",
      "0      PAYMENT  \n",
      "1      PAYMENT  \n",
      "2      PAYMENT  \n",
      "3      PAYMENT  \n",
      "4      PAYMENT   None        transaction_id   contract_id     client_id  transaction_date  \\\n",
      "count    25559.000000  25559.000000  25559.000000      2.555900e+04   \n",
      "mean     12780.000000    758.221409    602.886811      1.517126e+09   \n",
      "std       7378.392101    352.190207    344.782295      9.964331e+06   \n",
      "min          1.000000      1.000000      1.000000      1.499019e+09   \n",
      "25%       6390.500000    510.000000    308.000000      1.508433e+09   \n",
      "50%      12780.000000    732.000000    593.000000      1.518110e+09   \n",
      "75%      19169.500000    991.000000    894.000000      1.525976e+09   \n",
      "max      25559.000000   1643.000000   1281.000000      1.532456e+09   \n",
      "\n",
      "         payment_amt  \n",
      "count   25559.000000  \n",
      "mean     1221.455691  \n",
      "std      4346.049363  \n",
      "min      -136.660000  \n",
      "25%        93.330000  \n",
      "50%       266.660000  \n",
      "75%       833.330000  \n",
      "max    200000.050000  \n",
      "<class 'pandas.core.frame.DataFrame'>\n",
      "RangeIndex: 1287 entries, 0 to 1286\n",
      "Data columns (total 3 columns):\n",
      " #   Column                   Non-Null Count  Dtype \n",
      "---  ------                   --------------  ----- \n",
      " 0   client_id                1287 non-null   int64 \n",
      " 1   entity_type              1287 non-null   object\n",
      " 2   entity_year_established  1287 non-null   int64 \n",
      "dtypes: int64(2), object(1)\n",
      "memory usage: 30.3+ KB\n",
      "   client_id                 entity_type  entity_year_established\n",
      "0        786  Australian Private Company                     2002\n",
      "1        230  Australian Private Company                     2008\n",
      "2        282      Individual/Sole Trader                     2001\n",
      "3        447  Australian Private Company                     2013\n",
      "4        310      Individual/Sole Trader                     2015 None          client_id  entity_year_established\n",
      "count  1287.000000              1287.000000\n",
      "mean    641.025641              2009.072261\n",
      "std     369.778060                 5.708598\n",
      "min       1.000000              1999.000000\n",
      "25%     321.500000              2004.000000\n",
      "50%     640.000000              2010.000000\n",
      "75%     960.500000              2014.000000\n",
      "max    1281.000000              2018.000000\n"
     ]
    }
   ],
   "source": [
    "# skimming the data\n",
    "print(df_pay.head(), df_pay.info(), df_pay.describe())\n",
    "print(df_cli.head(), df_cli.info(), df_cli.describe())\n",
    "\n"
   ]
  },
  {
   "cell_type": "code",
   "execution_count": 29,
   "id": "bcebf68d-f115-425e-9f91-9fd7b2097518",
   "metadata": {},
   "outputs": [
    {
     "name": "stdout",
     "output_type": "stream",
     "text": [
      "Duplicate transactions: 0\n",
      "Missing client IDs in payments: 0 unique missing contracts: 0\n"
     ]
    }
   ],
   "source": [
    "# checking all duplicates and missing keys \n",
    "print('Duplicate transactions:',\n",
    "      df_pay['transaction_id'].duplicated().sum())\n",
    "\n",
    "print('Missing client IDs in payments:',\n",
    "      df_pay['client_id'].isna().sum(),\n",
    "      'unique missing contracts:',\n",
    "      df_pay.loc[df_pay['client_id'].isna(), 'contract_id'].nunique())\n"
   ]
  },
  {
   "cell_type": "code",
   "execution_count": 5,
   "id": "572f57b2-c626-470a-b73b-975262dddc48",
   "metadata": {},
   "outputs": [],
   "source": [
    "#cleaning the data, trimming and uppercase\n",
    "df_pay['payment_code'] = (\n",
    "    df_pay['payment_code']\n",
    "      .astype(str)\n",
    "      .str.strip()\n",
    "      .str.upper()\n",
    ")"
   ]
  },
  {
   "cell_type": "code",
   "execution_count": 6,
   "id": "134e13de-e53f-404c-b16a-06284b492f16",
   "metadata": {},
   "outputs": [],
   "source": [
    "df_pay['payment_amt'] = pd.to_numeric(df_pay['payment_amt'], errors='coerce')\n",
    "# dropping negative or missing amounts\n",
    "df_pay = df_pay[df_pay['payment_amt'] > 0]\n"
   ]
  },
  {
   "cell_type": "code",
   "execution_count": 7,
   "id": "69e1244a-23c4-4958-9495-35f910f435fa",
   "metadata": {},
   "outputs": [],
   "source": [
    "\n",
    "df_pay['IsDefault'] = df_pay['payment_code'] == 'DEFAULT'\n"
   ]
  },
  {
   "cell_type": "code",
   "execution_count": 33,
   "id": "be09ce77-afdf-4333-a891-a46f5e5285aa",
   "metadata": {},
   "outputs": [],
   "source": [
    "#cleaning data, trimming and capslock\n",
    "df_cli['entity_type'] = (\n",
    "    df_cli['entity_type']\n",
    "      .astype(str)\n",
    "      .str.strip()\n",
    "      .str.title() \n",
    ")\n"
   ]
  },
  {
   "cell_type": "code",
   "execution_count": 34,
   "id": "3811cd50-19b5-4625-8e74-aa64f6c7e4d3",
   "metadata": {},
   "outputs": [],
   "source": [
    "#calculating business age\n",
    "df_cli['entity_year_established'] = pd.to_numeric(\n",
    "    df_cli['entity_year_established'], errors='coerce'\n",
    ")\n",
    "current_year = pd.Timestamp.now().year\n",
    "df_cli['BusinessAge'] = current_year - df_cli['entity_year_established']\n"
   ]
  },
  {
   "cell_type": "code",
   "execution_count": 35,
   "id": "952bb466-dce0-4376-bb05-2ce31d2d7f9c",
   "metadata": {},
   "outputs": [
    {
     "name": "stdout",
     "output_type": "stream",
     "text": [
      "Clients with duplicate IDs:\n",
      " client_id\n",
      "591     3\n",
      "165     2\n",
      "473     2\n",
      "1262    2\n",
      "797     2\n",
      "Name: count, dtype: int64\n"
     ]
    }
   ],
   "source": [
    "# Counting how many times each client_id appears\n",
    "dup_counts = df_cli['client_id'].value_counts()\n",
    "\n",
    "# checking duplicates with more than 1\n",
    "dup_clients = dup_counts[ dup_counts > 1 ]\n",
    "print(\"Clients with duplicate IDs:\\n\", dup_clients)\n"
   ]
  },
  {
   "cell_type": "code",
   "execution_count": 36,
   "id": "4272b220-da00-43e6-a38e-2aebaa3757e8",
   "metadata": {},
   "outputs": [
    {
     "name": "stdout",
     "output_type": "stream",
     "text": [
      "     client_id                 entity_type  entity_year_established  \\\n",
      "245        591  Australian Private Company                     2013   \n",
      "306        591  Australian Private Company                     2007   \n",
      "816        591  Australian Private Company                     2015   \n",
      "\n",
      "     BusinessAge  \n",
      "245           12  \n",
      "306           18  \n",
      "816           10  \n"
     ]
    }
   ],
   "source": [
    " # first duplicate client_id\n",
    "example = dup_clients.index[0]  \n",
    "print(df_cli[df_cli['client_id'] == example])\n"
   ]
  },
  {
   "cell_type": "code",
   "execution_count": 18,
   "id": "bd7bf257-ca4d-4535-9982-bf34271f68e6",
   "metadata": {},
   "outputs": [],
   "source": [
    "df_cli_unique = df_cli.drop_duplicates(subset='client_id', keep='first')\n"
   ]
  },
  {
   "cell_type": "code",
   "execution_count": 38,
   "id": "1a496560-e72e-437a-9a93-c5c78a6987d5",
   "metadata": {},
   "outputs": [],
   "source": [
    "df_merge = df_pay.merge(\n",
    "    df_cli_unique,\n",
    "    on='client_id',\n",
    "    how='left',\n",
    "    validate='many_to_one'   \n",
    ")\n"
   ]
  },
  {
   "cell_type": "code",
   "execution_count": 37,
   "id": "4905e88e-99d7-4975-bef3-8f013d05ab16",
   "metadata": {},
   "outputs": [
    {
     "name": "stdout",
     "output_type": "stream",
     "text": [
      "Overall default rate: 8.7%\n"
     ]
    }
   ],
   "source": [
    "# Finding overall default rate\n",
    "default_rate = df_pay['IsDefault'].mean()\n",
    "print(f'Overall default rate: {default_rate:.1%}')"
   ]
  },
  {
   "cell_type": "code",
   "execution_count": 26,
   "id": "dc819916-ca26-4719-ab5a-d712f2332dac",
   "metadata": {},
   "outputs": [],
   "source": [
    "df_merge.to_csv('merged_payments_clients.csv', index=False)"
   ]
  },
  {
   "cell_type": "code",
   "execution_count": null,
   "id": "1ac18b6d-f5fa-4222-b57a-5c1714da055d",
   "metadata": {},
   "outputs": [],
   "source": []
  }
 ],
 "metadata": {
  "kernelspec": {
   "display_name": "Python 3 (ipykernel)",
   "language": "python",
   "name": "python3"
  },
  "language_info": {
   "codemirror_mode": {
    "name": "ipython",
    "version": 3
   },
   "file_extension": ".py",
   "mimetype": "text/x-python",
   "name": "python",
   "nbconvert_exporter": "python",
   "pygments_lexer": "ipython3",
   "version": "3.11.7"
  }
 },
 "nbformat": 4,
 "nbformat_minor": 5
}
