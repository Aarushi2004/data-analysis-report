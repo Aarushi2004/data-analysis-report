{
 "cells": [
  {
   "cell_type": "code",
   "execution_count": 1,
   "id": "da18ac2b-f5cb-47e9-8475-26c2bacab1ac",
   "metadata": {},
   "outputs": [],
   "source": [
    "import pandas as pd"
   ]
  },
  {
   "cell_type": "code",
   "execution_count": 2,
   "id": "a060a32e-986f-4467-ac78-3a33552565a6",
   "metadata": {},
   "outputs": [],
   "source": [
    "# Payments and clients Cleaned and Merged.csv contains  payment-level data + client info\n",
    "df_payments = pd.read_csv(\"merged_payments_clients.csv\")\n",
    "\n",
    "# RFM_Customer Segmentation.csv has one row per client with your segment labels\n",
    "df_rfm = pd.read_csv(\"RFM_Customer Segmentation F.csv\")\n"
   ]
  },
  {
   "cell_type": "code",
   "execution_count": 51,
   "id": "bffdb146-6a30-4c6a-9c9d-73881cea16af",
   "metadata": {},
   "outputs": [
    {
     "name": "stdout",
     "output_type": "stream",
     "text": [
      "Payments and Clients columns: ['transaction_id', 'contract_id', 'client_id', 'transaction_date', 'payment_amt', 'payment_code', 'IsDefault', 'entity_type', 'entity_year_established', 'BusinessAge']\n",
      "RFM columns: ['Unnamed: 0', 'Client_ID', 'Recency', 'Frequency', 'Monetary', 'R', 'F', 'M', 'RFM_Score', 'Segment']\n"
     ]
    }
   ],
   "source": [
    "print(\"Payments and Clients columns:\", df_payments.columns.tolist())\n",
    "print(\"RFM columns:\", df_rfm.columns.tolist())\n"
   ]
  },
  {
   "cell_type": "code",
   "execution_count": 3,
   "id": "ab7ba17d-7342-4727-87d9-e0ccd61f4948",
   "metadata": {},
   "outputs": [],
   "source": [
    "# Renaming the client id column so it gets easier to join\n",
    "df_payments = df_payments.rename(columns={'client_id': 'Client_ID'})\n"
   ]
  },
  {
   "cell_type": "code",
   "execution_count": 53,
   "id": "a12d88e2-710e-4c32-a75e-986067aa6e94",
   "metadata": {},
   "outputs": [
    {
     "name": "stdout",
     "output_type": "stream",
     "text": [
      "Payments and Clients columns: ['transaction_id', 'contract_id', 'Client_ID', 'transaction_date', 'payment_amt', 'payment_code', 'IsDefault', 'entity_type', 'entity_year_established', 'BusinessAge']\n",
      "RFM columns: ['Unnamed: 0', 'Client_ID', 'Recency', 'Frequency', 'Monetary', 'R', 'F', 'M', 'RFM_Score', 'Segment']\n"
     ]
    }
   ],
   "source": [
    "print(\"Payments and Clients columns:\", df_payments.columns.tolist())\n",
    "print(\"RFM columns:\", df_rfm.columns.tolist())\n"
   ]
  },
  {
   "cell_type": "code",
   "execution_count": 4,
   "id": "b6165302-11fa-4e04-be68-18f0f9a98c21",
   "metadata": {},
   "outputs": [],
   "source": [
    "# merging both the csv files by using left join\n",
    "df_combined = pd.merge(\n",
    "    df_payments,\n",
    "    df_rfm,\n",
    "    on=\"Client_ID\",\n",
    "    how=\"left\",\n",
    "    validate=\"many_to_one\"\n",
    ")"
   ]
  },
  {
   "cell_type": "code",
   "execution_count": 62,
   "id": "5cbed170-61cc-4f92-925d-93fe9ac858db",
   "metadata": {},
   "outputs": [
    {
     "name": "stdout",
     "output_type": "stream",
     "text": [
      "Combined rows: 25557\n",
      "Columns now: ['transaction_id', 'contract_id', 'Client_ID', 'transaction_date', 'payment_amt', 'payment_code', 'IsDefault', 'entity_type', 'entity_year_established', 'BusinessAge', 'Unnamed: 0', 'Recency', 'Frequency', 'Monetary', 'R', 'F', 'M', 'RFM_Score', 'Segment']\n",
      "If Any missing segments 0\n"
     ]
    }
   ],
   "source": [
    "print(\"Combined rows:\", len(df_combined))\n",
    "print(\"Columns now:\", df_combined.columns.tolist())\n",
    "print(\"If Any missing segments\", df_combined[\"Segment\"].isna().sum())\n"
   ]
  },
  {
   "cell_type": "code",
   "execution_count": 64,
   "id": "fa5e42a6-05ca-4eff-b699-b4272c799154",
   "metadata": {},
   "outputs": [],
   "source": [
    "df_combined.to_csv(\"Complete merged data F.csv\", index=False)"
   ]
  },
  {
   "cell_type": "code",
   "execution_count": null,
   "id": "2e77ccb2-38f1-4fab-b759-3e09dd412ca3",
   "metadata": {},
   "outputs": [],
   "source": []
  }
 ],
 "metadata": {
  "kernelspec": {
   "display_name": "Python 3 (ipykernel)",
   "language": "python",
   "name": "python3"
  },
  "language_info": {
   "codemirror_mode": {
    "name": "ipython",
    "version": 3
   },
   "file_extension": ".py",
   "mimetype": "text/x-python",
   "name": "python",
   "nbconvert_exporter": "python",
   "pygments_lexer": "ipython3",
   "version": "3.11.7"
  }
 },
 "nbformat": 4,
 "nbformat_minor": 5
}
